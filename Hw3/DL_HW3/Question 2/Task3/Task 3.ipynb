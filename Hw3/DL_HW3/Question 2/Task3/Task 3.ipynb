{
 "cells": [
  {
   "cell_type": "markdown",
   "metadata": {},
   "source": [
    "# Task 3"
   ]
  },
  {
   "cell_type": "markdown",
   "metadata": {},
   "source": [
    "For the model based on densenet169, please also report its performance (when you use the training method of finetuning the model but only updating the top layers) on the testing set.  \n",
    " You need to modify the make_NN function to complete this task."
   ]
  },
  {
   "cell_type": "code",
   "execution_count": 3,
   "metadata": {},
   "outputs": [
    {
     "name": "stdout",
     "output_type": "stream",
     "text": [
      "Epoch: 1/1 -  Training Loss: 3.848 -  Validation Loss: 2.744 -  Validation Accuracy: 0.513\n",
      "Epoch: 1/1 -  Training Loss: 2.211 -  Validation Loss: 1.308 -  Validation Accuracy: 0.749\n",
      "Testing Accuracy: 0.806\n",
      "model: densenet169 - hidden layers: [1024] - epochs: 1 - lr: 0.001\n",
      "Run time: 1.805 min\n"
     ]
    }
   ],
   "source": [
    "!python train.py \"./flowers\" --gpu"
   ]
  },
  {
   "cell_type": "code",
   "execution_count": null,
   "metadata": {},
   "outputs": [],
   "source": []
  }
 ],
 "metadata": {
  "kernelspec": {
   "display_name": "Python 3",
   "language": "python",
   "name": "python3"
  },
  "language_info": {
   "codemirror_mode": {
    "name": "ipython",
    "version": 3
   },
   "file_extension": ".py",
   "mimetype": "text/x-python",
   "name": "python",
   "nbconvert_exporter": "python",
   "pygments_lexer": "ipython3",
   "version": "3.6.10"
  }
 },
 "nbformat": 4,
 "nbformat_minor": 4
}
