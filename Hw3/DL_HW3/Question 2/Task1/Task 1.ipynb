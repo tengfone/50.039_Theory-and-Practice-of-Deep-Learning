{
 "cells": [
  {
   "cell_type": "markdown",
   "metadata": {
    "id": "tsEBfvuJ2bqj"
   },
   "source": [
    "## Finetuning a network"
   ]
  },
  {
   "cell_type": "markdown",
   "metadata": {
    "id": "KQnocSZEhNSu"
   },
   "source": [
    "4 Tasks\n",
    "\n",
    "(Note: In this task, if you are adapting the code based on the open-source projects, pls acknowledge the original source in your code files, and also clearly mention it in your report. Also you need to clearly highlight which parts are done by yourself)\n",
    "\n",
    "(1) Replace the used base model (densenet169) to another model (refer to https://pytorch.org/vision/0.8/models.html for more types of models). Pls compare the performance of these two models on the validation set. \n",
    "\n",
    "(2) Please try different training methods that use densenet169 as the base model (i.e., training the whole model from scratch, finetuning the model but only updating the top layers, finetuning the whole model), and compare their performance on the validation set. Please also draw the curves of training/validation losses over training steps for these methods, and give your analysis based on the observed curves.\n",
    "\n",
    "(3) For the model based on densenet169, please also report its performance (when you use the training method of finetuning the model but only updating the top layers) on the testing set.\n",
    "\n",
    "(4) Please replace the base model to a new model which contains some convolutional layers. You need to implement this new model by yourselves, and then report its performance on the validation set. Note, pls try different numbers of convolutional layers for your model, and compare their results, and give analysis for the results. You need to try at least 2 different numbers of conv layers.\n",
    "\n",
    "Extra tasks (not included in Homework 3):\n",
    "\n",
    "(5) Please try using two different learning rate scheduling schemes for densenet169, and compare the performance on the validation set.\n",
    "\n",
    "(6) Please try using two different optimizers for densenet169, and compare the performance on the validation set.\n",
    "\n",
    "# Hint\n",
    "(1) For the densenet169 model, the final layer with parameters is the 'classifier'. Thus, we replaced 'model.classifier' to a new layer when doing transfer learning. But for other models, the name of the final layer with parameters may be different (e.g., 'fc' for the ResNet model, and thus you need to replace 'model.fc' to another layer if you want to use ResNet. You may refer to the \"Transfer Learning\n",
    "\" section of https://learnopencv.com/image-classification-using-transfer-learning-in-pytorch/)\n",
    "\n",
    "Note: you need to modify the make_NN function in model_ic.py\n",
    "\n",
    "(2) If you want to finetune the whole model, you need to do two steps:\n",
    "a) you should not freeze any parameter in the model;\n",
    "b) in the optimizer (optim.Adam), you need to optimize all the parameters. You can refer to the \"Transfer Learning\" section of https://learnopencv.com/image-classification-using-transfer-learning-in-pytorch/, where the whole model is finetuned in that example. You can check the optim.Adam method used in that example.\n",
    "\n",
    "(3) You need to modify the make_NN function to complete this task.\n",
    "\n",
    "(4) You can refer to https://colab.research.google.com/drive/1zhDmMfSFBy3clH-NRp9nXruQXnckZ3X1#scrollTo=KZd049wKyFT8, where a new model is implemented, instead of loading a pre-trained model."
   ]
  },
  {
   "cell_type": "markdown",
   "metadata": {},
   "source": [
    "# Task 1"
   ]
  },
  {
   "cell_type": "code",
   "execution_count": 3,
   "metadata": {
    "colab": {
     "base_uri": "https://localhost:8080/"
    },
    "id": "JJQzODy03WIo",
    "outputId": "4c5efe71-5e6e-450a-97b2-97a13063ea07"
   },
   "outputs": [
    {
     "name": "stdout",
     "output_type": "stream",
     "text": [
      "Epoch: 1/1 -  Training Loss: 3.903 -  Validation Loss: 2.646 -  Validation Accuracy: 0.517\n",
      "Epoch: 1/1 -  Training Loss: 2.124 -  Validation Loss: 1.255 -  Validation Accuracy: 0.758\n",
      "model: densenet169 - hidden layers: [1024] - epochs: 1 - lr: 0.001\n",
      "Run time: 2.226 min\n"
     ]
    }
   ],
   "source": [
    "!python train.py \"./flowers\" --gpu"
   ]
  },
  {
   "cell_type": "code",
   "execution_count": 7,
   "metadata": {},
   "outputs": [
    {
     "name": "stdout",
     "output_type": "stream",
     "text": [
      "Epoch: 1/1 -  Training Loss: 4.190 -  Validation Loss: 3.431 -  Validation Accuracy: 0.280\n",
      "Epoch: 1/1 -  Training Loss: 2.983 -  Validation Loss: 2.121 -  Validation Accuracy: 0.583\n",
      "model: googlenet - hidden layers: [1024] - epochs: 1 - lr: 0.001\n",
      "Run time: 1.544 min\n"
     ]
    }
   ],
   "source": [
    "!python train.py \"./flowers\" --gpu --arch googlenet "
   ]
  },
  {
   "cell_type": "code",
   "execution_count": null,
   "metadata": {},
   "outputs": [],
   "source": []
  }
 ],
 "metadata": {
  "accelerator": "GPU",
  "colab": {
   "collapsed_sections": [],
   "name": "Question 2.ipynb",
   "provenance": [],
   "toc_visible": true
  },
  "kernelspec": {
   "display_name": "Python 3",
   "language": "python",
   "name": "python3"
  },
  "language_info": {
   "codemirror_mode": {
    "name": "ipython",
    "version": 3
   },
   "file_extension": ".py",
   "mimetype": "text/x-python",
   "name": "python",
   "nbconvert_exporter": "python",
   "pygments_lexer": "ipython3",
   "version": "3.6.10"
  }
 },
 "nbformat": 4,
 "nbformat_minor": 1
}
