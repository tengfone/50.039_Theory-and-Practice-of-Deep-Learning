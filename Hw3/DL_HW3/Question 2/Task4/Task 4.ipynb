{
 "cells": [
  {
   "cell_type": "markdown",
   "metadata": {},
   "source": [
    "# Task 4"
   ]
  },
  {
   "cell_type": "markdown",
   "metadata": {},
   "source": [
    "(4) Please replace the base model to a new model which contains some convolutional layers. You need to implement this new model by yourselves, and then report its performance on the validation set. Note, pls try different numbers of convolutional layers for your model, and compare their results, and give analysis for the results. You need to try at least 2 different numbers of conv layers.  \n",
    "\n",
    "(4) You can refer to https://colab.research.google.com/drive/1zhDmMfSFBy3clH-NRp9nXruQXnckZ3X1#scrollTo=KZd049wKyFT8, where a new model is implemented, instead of loading a pre-trained model."
   ]
  },
  {
   "cell_type": "markdown",
   "metadata": {},
   "source": [
    "### 5 Convo Layer with 5 epochs"
   ]
  },
  {
   "cell_type": "code",
   "execution_count": 24,
   "metadata": {
    "scrolled": true
   },
   "outputs": [
    {
     "name": "stdout",
     "output_type": "stream",
     "text": [
      "Epoch: 1/5 -  Training Loss: 4.619 -  Validation Loss: 4.529 -  Validation Accuracy: 0.025\n",
      "Epoch: 1/5 -  Training Loss: 4.514 -  Validation Loss: 4.491 -  Validation Accuracy: 0.034\n",
      "Epoch: 2/5 -  Training Loss: 4.412 -  Validation Loss: 4.189 -  Validation Accuracy: 0.036\n",
      "Epoch: 2/5 -  Training Loss: 4.115 -  Validation Loss: 4.029 -  Validation Accuracy: 0.067\n",
      "Epoch: 2/5 -  Training Loss: 4.005 -  Validation Loss: 3.919 -  Validation Accuracy: 0.060\n",
      "Epoch: 3/5 -  Training Loss: 3.879 -  Validation Loss: 3.804 -  Validation Accuracy: 0.060\n",
      "Epoch: 3/5 -  Training Loss: 3.818 -  Validation Loss: 3.802 -  Validation Accuracy: 0.088\n",
      "Epoch: 4/5 -  Training Loss: 3.742 -  Validation Loss: 3.630 -  Validation Accuracy: 0.091\n",
      "Epoch: 4/5 -  Training Loss: 3.671 -  Validation Loss: 3.595 -  Validation Accuracy: 0.106\n",
      "Epoch: 4/5 -  Training Loss: 3.633 -  Validation Loss: 3.532 -  Validation Accuracy: 0.103\n",
      "Epoch: 5/5 -  Training Loss: 3.504 -  Validation Loss: 3.462 -  Validation Accuracy: 0.120\n",
      "Epoch: 5/5 -  Training Loss: 3.470 -  Validation Loss: 3.343 -  Validation Accuracy: 0.143\n",
      "Testing Accuracy: 0.125\n",
      "model: Custom Model - hidden layers: [1024] - epochs: 5 - lr: 0.001\n",
      "Run time: 7.601 min\n"
     ]
    }
   ],
   "source": [
    "!python train.py \"./flowers\" --gpu --epochs 5"
   ]
  },
  {
   "cell_type": "markdown",
   "metadata": {},
   "source": [
    "### 2 Convo Layer with 5 epochs"
   ]
  },
  {
   "cell_type": "code",
   "execution_count": 25,
   "metadata": {},
   "outputs": [
    {
     "name": "stdout",
     "output_type": "stream",
     "text": [
      "Epoch: 1/5 -  Training Loss: 4.313 -  Validation Loss: 3.927 -  Validation Accuracy: 0.073\n",
      "Epoch: 1/5 -  Training Loss: 3.797 -  Validation Loss: 3.625 -  Validation Accuracy: 0.113\n",
      "Epoch: 2/5 -  Training Loss: 3.584 -  Validation Loss: 3.385 -  Validation Accuracy: 0.136\n",
      "Epoch: 2/5 -  Training Loss: 3.466 -  Validation Loss: 3.261 -  Validation Accuracy: 0.163\n",
      "Epoch: 2/5 -  Training Loss: 3.263 -  Validation Loss: 3.126 -  Validation Accuracy: 0.182\n",
      "Epoch: 3/5 -  Training Loss: 3.184 -  Validation Loss: 3.057 -  Validation Accuracy: 0.209\n",
      "Epoch: 3/5 -  Training Loss: 3.059 -  Validation Loss: 2.866 -  Validation Accuracy: 0.260\n",
      "Epoch: 4/5 -  Training Loss: 2.939 -  Validation Loss: 2.830 -  Validation Accuracy: 0.279\n",
      "Epoch: 4/5 -  Training Loss: 2.861 -  Validation Loss: 2.591 -  Validation Accuracy: 0.310\n",
      "Epoch: 4/5 -  Training Loss: 2.809 -  Validation Loss: 2.606 -  Validation Accuracy: 0.294\n",
      "Epoch: 5/5 -  Training Loss: 2.652 -  Validation Loss: 2.577 -  Validation Accuracy: 0.321\n",
      "Epoch: 5/5 -  Training Loss: 2.686 -  Validation Loss: 2.471 -  Validation Accuracy: 0.336\n",
      "Testing Accuracy: 0.369\n",
      "model: Custom Model - hidden layers: [1024] - epochs: 5 - lr: 0.001\n",
      "Run time: 7.542 min\n"
     ]
    }
   ],
   "source": [
    "!python train.py \"./flowers\" --gpu --epochs 5"
   ]
  },
  {
   "cell_type": "code",
   "execution_count": null,
   "metadata": {},
   "outputs": [],
   "source": []
  }
 ],
 "metadata": {
  "kernelspec": {
   "display_name": "Python 3",
   "language": "python",
   "name": "python3"
  },
  "language_info": {
   "codemirror_mode": {
    "name": "ipython",
    "version": 3
   },
   "file_extension": ".py",
   "mimetype": "text/x-python",
   "name": "python",
   "nbconvert_exporter": "python",
   "pygments_lexer": "ipython3",
   "version": "3.6.10"
  }
 },
 "nbformat": 4,
 "nbformat_minor": 4
}
